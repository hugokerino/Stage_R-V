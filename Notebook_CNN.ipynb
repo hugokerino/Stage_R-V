{
 "cells": [
  {
   "cell_type": "code",
   "execution_count": 1,
   "id": "8c543e33",
   "metadata": {},
   "outputs": [
    {
     "name": "stderr",
     "output_type": "stream",
     "text": [
      "2023-05-16 15:31:43.794003: I tensorflow/core/platform/cpu_feature_guard.cc:182] This TensorFlow binary is optimized to use available CPU instructions in performance-critical operations.\n",
      "To enable the following instructions: SSE4.1 SSE4.2 AVX AVX2 FMA, in other operations, rebuild TensorFlow with the appropriate compiler flags.\n"
     ]
    }
   ],
   "source": [
    "import numpy as np\n",
    "import matplotlib.pyplot as plt\n",
    "import george\n",
    "from george import kernels\n",
    "from astropy.timeseries import LombScargle\n",
    "import random \n",
    "from scipy.stats import loguniform, gamma, uniform\n",
    "import time \n",
    "import tensorflow as tf\n",
    "from tensorflow.keras import layers, models\n",
    "import os\n",
    "import pickle"
   ]
  },
  {
   "cell_type": "code",
   "execution_count": 2,
   "id": "bbe87e86",
   "metadata": {},
   "outputs": [],
   "source": [
    "#Generate time and frequency\n",
    "\n",
    "#Over-sampling\n",
    "Ttot = 200 # days\n",
    "facteur_surech = 10\n",
    "N = Ttot*facteur_surech +1 # number of data point in a regularly sampled grid\n",
    "t_over = np.linspace(0,Ttot,N) #days\n",
    "dt = Ttot*facteur_surech/(N-1) #After sampling\n",
    "\n",
    "\n",
    "# Irregular sampling 1 : with normal distribution\n",
    "facteur_ech = 10\n",
    "t = np.zeros(Ttot)\n",
    "\n",
    "ind0 = round( 0 + facteur_ech*np.abs(np.random.normal(0, 0.1)))\n",
    "t[0] = t_over[ ind0 ]\n",
    "ind_fin = round( (N-1) - facteur_ech*np.abs(np.random.normal(0, 0.1)))\n",
    "t[-1] = t_over[ ind_fin ]\n",
    "\n",
    "pas = N/Ttot\n",
    "for i in range(Ttot-2):\n",
    "    ind = round((i+1)*pas+facteur_ech*np.random.normal(0, 0.1))\n",
    "    t[i+1] =  t_over[ind]\n",
    "    \n",
    "fmin = 1/Ttot\n",
    "fmax = (1/dt)/2 \n",
    "freq = np.arange(fmin,fmax,fmin/10)"
   ]
  },
  {
   "cell_type": "code",
   "execution_count": 3,
   "id": "b5fc9c20",
   "metadata": {},
   "outputs": [],
   "source": [
    "#Load dataset 1 for the neural network\n",
    "X_LS = np.load('./data/set1/X_LS.npy', allow_pickle=True)\n",
    "X_max_values = np.load('./data/set1/X_max_values.npy', allow_pickle=True)\n",
    "Y = np.load('./data/set1/Y.npy', allow_pickle=True)"
   ]
  },
  {
   "cell_type": "code",
   "execution_count": 4,
   "id": "007e5ba1",
   "metadata": {},
   "outputs": [
    {
     "name": "stdout",
     "output_type": "stream",
     "text": [
      "X_lS :  13700 <class 'numpy.ndarray'>\n",
      "X_max_values :  13700 <class 'numpy.ndarray'>\n",
      "\n",
      "1 periodogramme :  990 <class 'numpy.ndarray'>\n",
      "1 max values :  2 <class 'numpy.ndarray'>\n",
      "Y :  13700 <class 'numpy.ndarray'>\n"
     ]
    }
   ],
   "source": [
    "N_data = len(X_LS)\n",
    "print(\"X_lS : \", len(X_LS), type(X_LS))\n",
    "print(\"X_max_values : \", len(X_max_values), type(X_max_values))\n",
    "\n",
    "print(\"\\n1 periodogramme : \",len(X_LS[0]), type(X_LS[0]) ) #periodogramme\n",
    "print(\"1 max values : \", len(X_max_values[0]), type(X_max_values[0]) ) #max values \n",
    "\n",
    "print(\"Y : \", len(Y), type(Y))"
   ]
  },
  {
   "cell_type": "code",
   "execution_count": 5,
   "id": "8770d070",
   "metadata": {},
   "outputs": [
    {
     "name": "stdout",
     "output_type": "stream",
     "text": [
      "Periodogramme train size :  (10000, 990, 1)\n",
      "Periodogramme test size :  (3700, 990, 1)\n",
      "\n",
      "\n",
      "Max_values train size :  (10000, 2, 1)\n",
      "Max_values test size :  (3700, 2, 1)\n",
      "\n",
      "\n",
      "Label train size :  (10000, 1)\n",
      "Label test size :  (3700, 1)\n"
     ]
    },
    {
     "name": "stderr",
     "output_type": "stream",
     "text": [
      "2023-05-16 15:31:59.726095: I tensorflow/core/common_runtime/process_util.cc:146] Creating new thread pool with default inter op setting: 2. Tune using inter_op_parallelism_threads for best performance.\n"
     ]
    }
   ],
   "source": [
    "#Data pre-processing \n",
    "\n",
    "#shuffle\n",
    "c = list(zip(X_LS, X_max_values,Y))\n",
    "random.shuffle(c)\n",
    "X_LS, X_max_values,Y = zip(*c)\n",
    "\n",
    "#Periodogramme\n",
    "X1 = tf.convert_to_tensor(X_LS, dtype= 'float32')\n",
    "X_shape =  [N_data,len(X_LS[0]), 1]\n",
    "X1 = tf.reshape(X1, X_shape )\n",
    "\n",
    "#Max values\n",
    "X2 = tf.convert_to_tensor(X_max_values, dtype= 'float32')\n",
    "X2 = tf.reshape(X2, (N_data, 2,1))\n",
    "\n",
    "#Label\n",
    "Y = tf.convert_to_tensor(Y)\n",
    "Y = tf.reshape(Y, (N_data,1 ))\n",
    "\n",
    "#Split train/validation\n",
    "X_train1, X_test1 = X1[0:10000, :, :], X1[10000:, :, :]\n",
    "X_train2,X_test2 = X2[0:10000, :, :], X2[10000:, :, :]\n",
    "Y_train, Y_test = Y[0:10000], Y[10000:,:]\n",
    "\n",
    "print(\"Periodogramme train size : \", X_train1.shape)\n",
    "print(\"Periodogramme test size : \", X_test1.shape)\n",
    "print(\"\\n\")\n",
    "print(\"Max_values train size : \", X_train2.shape)\n",
    "print(\"Max_values test size : \", X_test2.shape)\n",
    "print(\"\\n\")\n",
    "print(\"Label train size : \", Y_train.shape)\n",
    "print(\"Label test size : \", Y_test.shape)"
   ]
  },
  {
   "cell_type": "code",
   "execution_count": 6,
   "id": "c38fe101",
   "metadata": {},
   "outputs": [],
   "source": [
    "#Model with functional API Keras\n",
    "\n",
    "#periodogramme as input to a CNN\n",
    "inputs1 = tf.keras.Input(shape=(990,1))\n",
    "x1 = layers.Conv1D(filters = 32, kernel_size = 2, strides = 1, padding = 'same',\n",
    "                   activation='relu', use_bias = True,input_shape= (990,))(inputs1)\n",
    "x1 = layers.MaxPooling1D(pool_size=2)(x1)\n",
    "x1 = layers.Conv1D(32,6,padding = 'same', activation='relu')(x1)\n",
    "x1 = layers.MaxPooling1D(pool_size=2)(x1)\n",
    "x1 = layers.Conv1D(32,8,padding = 'same', activation='relu')(x1)\n",
    "x1 = layers.MaxPooling1D(pool_size=2)(x1)\n",
    "outputs1 = layers.Flatten()(x1)\n",
    "\n",
    "#max_values as input to a dense layers \n",
    "inputs2 = tf.keras.Input(shape=(2,1))\n",
    "x2 = layers.Dense(2, activation = 'relu')(inputs2)\n",
    "outputs2 =  layers.Flatten()(x2)\n",
    "\n",
    "#output of the two network concatenate for input as a dense final network\n",
    "x = layers.concatenate([outputs1, outputs2])\n",
    "\n",
    "x = layers.Dense(32, activation = 'relu')(x)\n",
    "x = layers.Dense(32, activation = 'relu')(x)\n",
    "x = layers.Dropout(0.2)(x)\n",
    "outputs = layers.Dense(1,activation = 'sigmoid')(x)\n"
   ]
  },
  {
   "cell_type": "code",
   "execution_count": 7,
   "id": "b5f229ce",
   "metadata": {},
   "outputs": [],
   "source": [
    "model = tf.keras.Model(inputs=[inputs1,inputs2], outputs=outputs, name =\"ExoplANNET\")"
   ]
  },
  {
   "cell_type": "code",
   "execution_count": 8,
   "id": "549f61d1",
   "metadata": {},
   "outputs": [
    {
     "name": "stdout",
     "output_type": "stream",
     "text": [
      "Model: \"ExoplANNET\"\n",
      "__________________________________________________________________________________________________\n",
      " Layer (type)                   Output Shape         Param #     Connected to                     \n",
      "==================================================================================================\n",
      " input_1 (InputLayer)           [(None, 990, 1)]     0           []                               \n",
      "                                                                                                  \n",
      " conv1d (Conv1D)                (None, 990, 32)      96          ['input_1[0][0]']                \n",
      "                                                                                                  \n",
      " max_pooling1d (MaxPooling1D)   (None, 495, 32)      0           ['conv1d[0][0]']                 \n",
      "                                                                                                  \n",
      " conv1d_1 (Conv1D)              (None, 495, 32)      6176        ['max_pooling1d[0][0]']          \n",
      "                                                                                                  \n",
      " max_pooling1d_1 (MaxPooling1D)  (None, 247, 32)     0           ['conv1d_1[0][0]']               \n",
      "                                                                                                  \n",
      " conv1d_2 (Conv1D)              (None, 247, 32)      8224        ['max_pooling1d_1[0][0]']        \n",
      "                                                                                                  \n",
      " input_2 (InputLayer)           [(None, 2, 1)]       0           []                               \n",
      "                                                                                                  \n",
      " max_pooling1d_2 (MaxPooling1D)  (None, 123, 32)     0           ['conv1d_2[0][0]']               \n",
      "                                                                                                  \n",
      " dense (Dense)                  (None, 2, 2)         4           ['input_2[0][0]']                \n",
      "                                                                                                  \n",
      " flatten (Flatten)              (None, 3936)         0           ['max_pooling1d_2[0][0]']        \n",
      "                                                                                                  \n",
      " flatten_1 (Flatten)            (None, 4)            0           ['dense[0][0]']                  \n",
      "                                                                                                  \n",
      " concatenate (Concatenate)      (None, 3940)         0           ['flatten[0][0]',                \n",
      "                                                                  'flatten_1[0][0]']              \n",
      "                                                                                                  \n",
      " dense_1 (Dense)                (None, 32)           126112      ['concatenate[0][0]']            \n",
      "                                                                                                  \n",
      " dense_2 (Dense)                (None, 32)           1056        ['dense_1[0][0]']                \n",
      "                                                                                                  \n",
      " dropout (Dropout)              (None, 32)           0           ['dense_2[0][0]']                \n",
      "                                                                                                  \n",
      " dense_3 (Dense)                (None, 1)            33          ['dropout[0][0]']                \n",
      "                                                                                                  \n",
      "==================================================================================================\n",
      "Total params: 141,701\n",
      "Trainable params: 141,701\n",
      "Non-trainable params: 0\n",
      "__________________________________________________________________________________________________\n"
     ]
    }
   ],
   "source": [
    "model.summary()"
   ]
  },
  {
   "cell_type": "code",
   "execution_count": 9,
   "id": "8be2dfe0",
   "metadata": {},
   "outputs": [],
   "source": [
    "#Create metrics for trainning\n",
    "from tensorflow.keras import backend as K\n",
    "\n",
    "def precision_m(y_true, y_pred):\n",
    "    true_positives = K.sum( K.round(K.clip(y_true*y_pred,0,1)) )\n",
    "    predicted_positives = K.sum( K.round(K.clip(y_pred,0,1)) )\n",
    "    return true_positives / ( predicted_positives + K.epsilon())\n",
    "\n",
    "def recall_m(y_true, y_pred):\n",
    "    true_positives = K.sum( K.round(K.clip(y_true*y_pred,0,1)) )\n",
    "    real_positives = K.sum( K.round(K.clip(y_true,0,1)) )\n",
    "    return true_positives / (real_positives + K.epsilon())\n",
    "\n",
    "def f_score(y_true, y_pred):\n",
    "    P = precision_m(y_true, y_pred)\n",
    "    R = recall_m(y_true, y_pred)\n",
    "    return (2*P*R) / (P+R+K.epsilon())\n"
   ]
  },
  {
   "cell_type": "code",
   "execution_count": 10,
   "id": "fd76f0f0",
   "metadata": {},
   "outputs": [
    {
     "name": "stdout",
     "output_type": "stream",
     "text": [
      "Epoch 1/50\n",
      "79/79 [==============================] - 15s 162ms/step - loss: 0.5637 - binary_accuracy: 0.6900 - precision_m: 0.6388 - recall_m: 0.5773 - f_score: 0.5711\n",
      "Epoch 2/50\n",
      "79/79 [==============================] - 14s 175ms/step - loss: 0.4856 - binary_accuracy: 0.7342 - precision_m: 0.6354 - recall_m: 0.8204 - f_score: 0.7142\n",
      "Epoch 3/50\n",
      "79/79 [==============================] - 14s 175ms/step - loss: 0.4646 - binary_accuracy: 0.7440 - precision_m: 0.6357 - recall_m: 0.8645 - f_score: 0.7303\n",
      "Epoch 4/50\n",
      "79/79 [==============================] - 14s 175ms/step - loss: 0.4504 - binary_accuracy: 0.7556 - precision_m: 0.6510 - recall_m: 0.8524 - f_score: 0.7367\n",
      "Epoch 5/50\n",
      "79/79 [==============================] - 11s 145ms/step - loss: 0.4396 - binary_accuracy: 0.7595 - precision_m: 0.6590 - recall_m: 0.8343 - f_score: 0.7336\n",
      "Epoch 6/50\n",
      "79/79 [==============================] - 10s 124ms/step - loss: 0.4267 - binary_accuracy: 0.7713 - precision_m: 0.6830 - recall_m: 0.8161 - f_score: 0.7407\n",
      "Epoch 7/50\n",
      "79/79 [==============================] - 9s 115ms/step - loss: 0.4199 - binary_accuracy: 0.7770 - precision_m: 0.6840 - recall_m: 0.8366 - f_score: 0.7502\n",
      "Epoch 8/50\n",
      "79/79 [==============================] - 9s 112ms/step - loss: 0.4117 - binary_accuracy: 0.7797 - precision_m: 0.6879 - recall_m: 0.8135 - f_score: 0.7425\n",
      "Epoch 9/50\n",
      "79/79 [==============================] - 10s 126ms/step - loss: 0.3996 - binary_accuracy: 0.7888 - precision_m: 0.7068 - recall_m: 0.8179 - f_score: 0.7560\n",
      "Epoch 10/50\n",
      "79/79 [==============================] - 10s 122ms/step - loss: 0.3950 - binary_accuracy: 0.7920 - precision_m: 0.7087 - recall_m: 0.8280 - f_score: 0.7607\n",
      "Epoch 11/50\n",
      "79/79 [==============================] - 10s 127ms/step - loss: 0.3840 - binary_accuracy: 0.7981 - precision_m: 0.7213 - recall_m: 0.8271 - f_score: 0.7690\n",
      "Epoch 12/50\n",
      "79/79 [==============================] - 12s 158ms/step - loss: 0.3738 - binary_accuracy: 0.8050 - precision_m: 0.7247 - recall_m: 0.8348 - f_score: 0.7736\n",
      "Epoch 13/50\n",
      "79/79 [==============================] - 13s 160ms/step - loss: 0.3660 - binary_accuracy: 0.8115 - precision_m: 0.7337 - recall_m: 0.8323 - f_score: 0.7768\n",
      "Epoch 14/50\n",
      "79/79 [==============================] - 12s 149ms/step - loss: 0.3537 - binary_accuracy: 0.8193 - precision_m: 0.7414 - recall_m: 0.8456 - f_score: 0.7872\n",
      "Epoch 15/50\n",
      "79/79 [==============================] - 12s 156ms/step - loss: 0.3421 - binary_accuracy: 0.8241 - precision_m: 0.7494 - recall_m: 0.8473 - f_score: 0.7934\n",
      "Epoch 16/50\n",
      "79/79 [==============================] - 12s 156ms/step - loss: 0.3338 - binary_accuracy: 0.8249 - precision_m: 0.7532 - recall_m: 0.8411 - f_score: 0.7920\n",
      "Epoch 17/50\n",
      "79/79 [==============================] - 13s 170ms/step - loss: 0.3175 - binary_accuracy: 0.8378 - precision_m: 0.7702 - recall_m: 0.8527 - f_score: 0.8070\n",
      "Epoch 18/50\n",
      "79/79 [==============================] - 13s 170ms/step - loss: 0.3020 - binary_accuracy: 0.8457 - precision_m: 0.7842 - recall_m: 0.8564 - f_score: 0.8170\n",
      "Epoch 19/50\n",
      "79/79 [==============================] - 13s 170ms/step - loss: 0.2966 - binary_accuracy: 0.8472 - precision_m: 0.7803 - recall_m: 0.8558 - f_score: 0.8141\n",
      "Epoch 20/50\n",
      "79/79 [==============================] - 14s 175ms/step - loss: 0.2793 - binary_accuracy: 0.8588 - precision_m: 0.7966 - recall_m: 0.8731 - f_score: 0.8316\n",
      "Epoch 21/50\n",
      "79/79 [==============================] - 12s 147ms/step - loss: 0.2697 - binary_accuracy: 0.8652 - precision_m: 0.8076 - recall_m: 0.8804 - f_score: 0.8403\n",
      "Epoch 22/50\n",
      "79/79 [==============================] - 12s 149ms/step - loss: 0.2566 - binary_accuracy: 0.8722 - precision_m: 0.8205 - recall_m: 0.8786 - f_score: 0.8469\n",
      "Epoch 23/50\n",
      "79/79 [==============================] - 13s 160ms/step - loss: 0.2444 - binary_accuracy: 0.8784 - precision_m: 0.8291 - recall_m: 0.8813 - f_score: 0.8519\n",
      "Epoch 24/50\n",
      "79/79 [==============================] - 13s 166ms/step - loss: 0.2262 - binary_accuracy: 0.8854 - precision_m: 0.8399 - recall_m: 0.8902 - f_score: 0.8627\n",
      "Epoch 25/50\n",
      "79/79 [==============================] - 13s 165ms/step - loss: 0.2171 - binary_accuracy: 0.8948 - precision_m: 0.8476 - recall_m: 0.9047 - f_score: 0.8736\n",
      "Epoch 26/50\n",
      "79/79 [==============================] - 13s 158ms/step - loss: 0.2021 - binary_accuracy: 0.9007 - precision_m: 0.8609 - recall_m: 0.9021 - f_score: 0.8795\n",
      "Epoch 27/50\n",
      "79/79 [==============================] - 12s 156ms/step - loss: 0.1971 - binary_accuracy: 0.9058 - precision_m: 0.8679 - recall_m: 0.9066 - f_score: 0.8851\n",
      "Epoch 28/50\n",
      "79/79 [==============================] - 12s 151ms/step - loss: 0.1903 - binary_accuracy: 0.9081 - precision_m: 0.8733 - recall_m: 0.9053 - f_score: 0.8869\n",
      "Epoch 29/50\n",
      "79/79 [==============================] - 11s 137ms/step - loss: 0.1776 - binary_accuracy: 0.9152 - precision_m: 0.8776 - recall_m: 0.9189 - f_score: 0.8967\n",
      "Epoch 30/50\n",
      "79/79 [==============================] - 9s 120ms/step - loss: 0.1633 - binary_accuracy: 0.9228 - precision_m: 0.8885 - recall_m: 0.9232 - f_score: 0.9044\n",
      "Epoch 31/50\n",
      "79/79 [==============================] - 9s 120ms/step - loss: 0.1634 - binary_accuracy: 0.9239 - precision_m: 0.8916 - recall_m: 0.9294 - f_score: 0.9086\n",
      "Epoch 32/50\n",
      "79/79 [==============================] - 11s 145ms/step - loss: 0.1489 - binary_accuracy: 0.9325 - precision_m: 0.9001 - recall_m: 0.9405 - f_score: 0.9182\n",
      "Epoch 33/50\n",
      "79/79 [==============================] - 11s 135ms/step - loss: 0.1366 - binary_accuracy: 0.9365 - precision_m: 0.9161 - recall_m: 0.9300 - f_score: 0.9217\n",
      "Epoch 34/50\n",
      "79/79 [==============================] - 9s 111ms/step - loss: 0.1316 - binary_accuracy: 0.9409 - precision_m: 0.9139 - recall_m: 0.9434 - f_score: 0.9273\n",
      "Epoch 35/50\n",
      "79/79 [==============================] - 10s 124ms/step - loss: 0.1351 - binary_accuracy: 0.9398 - precision_m: 0.9108 - recall_m: 0.9365 - f_score: 0.9223\n",
      "Epoch 36/50\n",
      "79/79 [==============================] - 10s 122ms/step - loss: 0.1582 - binary_accuracy: 0.9295 - precision_m: 0.8993 - recall_m: 0.9289 - f_score: 0.9123\n",
      "Epoch 37/50\n",
      "79/79 [==============================] - 10s 129ms/step - loss: 0.1149 - binary_accuracy: 0.9495 - precision_m: 0.9308 - recall_m: 0.9453 - f_score: 0.9369\n",
      "Epoch 38/50\n",
      "79/79 [==============================] - 11s 140ms/step - loss: 0.1006 - binary_accuracy: 0.9567 - precision_m: 0.9361 - recall_m: 0.9550 - f_score: 0.9447\n",
      "Epoch 39/50\n",
      "79/79 [==============================] - 12s 156ms/step - loss: 0.1004 - binary_accuracy: 0.9554 - precision_m: 0.9354 - recall_m: 0.9581 - f_score: 0.9458\n",
      "Epoch 40/50\n",
      "79/79 [==============================] - 14s 173ms/step - loss: 0.0913 - binary_accuracy: 0.9595 - precision_m: 0.9419 - recall_m: 0.9568 - f_score: 0.9479\n",
      "Epoch 41/50\n",
      "79/79 [==============================] - 14s 180ms/step - loss: 0.0889 - binary_accuracy: 0.9605 - precision_m: 0.9472 - recall_m: 0.9571 - f_score: 0.9514\n",
      "Epoch 42/50\n",
      "79/79 [==============================] - 13s 163ms/step - loss: 0.0777 - binary_accuracy: 0.9679 - precision_m: 0.9556 - recall_m: 0.9668 - f_score: 0.9607\n",
      "Epoch 43/50\n",
      "79/79 [==============================] - 14s 173ms/step - loss: 0.0870 - binary_accuracy: 0.9631 - precision_m: 0.9504 - recall_m: 0.9599 - f_score: 0.9546\n",
      "Epoch 44/50\n",
      "79/79 [==============================] - 13s 166ms/step - loss: 0.0690 - binary_accuracy: 0.9713 - precision_m: 0.9598 - recall_m: 0.9689 - f_score: 0.9638\n",
      "Epoch 45/50\n",
      "79/79 [==============================] - 13s 170ms/step - loss: 0.0725 - binary_accuracy: 0.9683 - precision_m: 0.9617 - recall_m: 0.9614 - f_score: 0.9610\n",
      "Epoch 46/50\n",
      "79/79 [==============================] - 13s 167ms/step - loss: 0.0534 - binary_accuracy: 0.9785 - precision_m: 0.9724 - recall_m: 0.9756 - f_score: 0.9737\n",
      "Epoch 47/50\n",
      "79/79 [==============================] - 13s 167ms/step - loss: 0.0472 - binary_accuracy: 0.9813 - precision_m: 0.9739 - recall_m: 0.9779 - f_score: 0.9755\n",
      "Epoch 48/50\n",
      "79/79 [==============================] - 13s 166ms/step - loss: 0.0489 - binary_accuracy: 0.9804 - precision_m: 0.9748 - recall_m: 0.9774 - f_score: 0.9758\n",
      "Epoch 49/50\n"
     ]
    },
    {
     "name": "stdout",
     "output_type": "stream",
     "text": [
      "79/79 [==============================] - 13s 167ms/step - loss: 0.0544 - binary_accuracy: 0.9797 - precision_m: 0.9765 - recall_m: 0.9744 - f_score: 0.9751\n",
      "Epoch 50/50\n",
      "79/79 [==============================] - 15s 194ms/step - loss: 0.0645 - binary_accuracy: 0.9767 - precision_m: 0.9688 - recall_m: 0.9743 - f_score: 0.9713\n"
     ]
    }
   ],
   "source": [
    "#Train the network\n",
    "early_stopping = tf.keras.callbacks.EarlyStopping(monitor = 'f_score', patience = 3, mode = \"max\",\n",
    "                                                  restore_best_weights = True, start_from_epoch = 5)\n",
    "\n",
    "model.compile( loss = tf.keras.losses.BinaryCrossentropy(from_logits= False),\n",
    "              optimizer = tf.keras.optimizers.Adam(learning_rate = 1e-3),\n",
    "              metrics =[tf.keras.metrics.BinaryAccuracy(),precision_m, recall_m, f_score])\n",
    "\n",
    "start = time.time()\n",
    "history = model.fit(x = [X_train1, X_train2], y = Y_train, batch_size = 128, epochs = 50, \n",
    "                    verbose = 1, callbacks=[early_stopping])\n",
    "time_train = time.time() - start"
   ]
  },
  {
   "cell_type": "code",
   "execution_count": 11,
   "id": "193d478b",
   "metadata": {},
   "outputs": [
    {
     "name": "stdout",
     "output_type": "stream",
     "text": [
      "Temps d'entrainement :  602.9654512405396 s\n"
     ]
    },
    {
     "data": {
      "text/plain": [
       "Text(0.5, 0, 'Epochs')"
      ]
     },
     "execution_count": 11,
     "metadata": {},
     "output_type": "execute_result"
    },
    {
     "data": {
      "image/png": "[encoded data removed]",
      "text/plain": [
       "<Figure size 1400x600 with 2 Axes>"
      ]
     },
     "metadata": {},
     "output_type": "display_data"
    }
   ],
   "source": [
    "print(\"Temps d'entrainement : \", time_train, \"s\")\n",
    "\n",
    "x = np.arange(len(history.history['loss']))\n",
    "\n",
    "plt.figure(figsize=(14,6))\n",
    "plt.suptitle(\" Training curves\")\n",
    "plt.subplot(211)\n",
    "plt.scatter(x,history.history['precision_m'], s=5, c='k')\n",
    "plt.plot(history.history['precision_m'],label='Precision'), plt.legend()\n",
    "\n",
    "plt.scatter(x,history.history['recall_m'], s=5, c='k')\n",
    "plt.plot(history.history['recall_m'], label='Recall'), plt.legend()\n",
    "\n",
    "plt.ylabel(\"Precision/Recall\")\n",
    "plt.xlabel(\"Epochs\")\n",
    "\n",
    "plt.subplot(212)\n",
    "plt.scatter(x,history.history['f_score'], s=5, c='k')\n",
    "plt.plot(history.history['f_score'], label='F-score'), plt.legend()\n",
    "plt.ylabel(\"F-score\")\n",
    "plt.xlabel(\"Epochs\")"
   ]
  },
  {
   "cell_type": "code",
   "execution_count": 12,
   "id": "437c88e7",
   "metadata": {},
   "outputs": [
    {
     "name": "stdout",
     "output_type": "stream",
     "text": [
      "116/116 [==============================] - 6s 46ms/step - loss: 1.0075 - binary_accuracy: 0.8265 - precision_m: 0.7922 - recall_m: 0.7568 - f_score: 0.7669\n",
      "Validation F-score =  76.69 %\n"
     ]
    }
   ],
   "source": [
    "#validation \n",
    "score = model.evaluate( x =[X_test1, X_test2], y =Y_test)\n",
    "print(\"Validation F-score = \", 100*round(score[-1],4),\"%\")"
   ]
  },
  {
   "cell_type": "code",
   "execution_count": 13,
   "id": "10eb3a0b",
   "metadata": {},
   "outputs": [
    {
     "name": "stdout",
     "output_type": "stream",
     "text": [
      "X1_test shape :  (3000, 990, 1)\n",
      "X2_test shape :  (3000, 2, 1)\n",
      "label_test shape :  (3000, 1)\n"
     ]
    }
   ],
   "source": [
    "#data set 2 test for testing\n",
    "\n",
    "X_LS_test = np.load(\"./data/set2/X_LS.npy\", allow_pickle=True)\n",
    "X_max_values_test = np.load(\"./data/set2/X_max_values.npy\", allow_pickle=True)\n",
    "Y_test = np.load(\"./data/set2/Y.npy\", allow_pickle=True)\n",
    "\n",
    "#shuffle\n",
    "c = list(zip(X_LS_test, X_max_values_test,Y_test))\n",
    "random.shuffle(c)\n",
    "X_LS_test, X_max_values_test,Y_test = zip(*c)\n",
    "\n",
    "#Periodogramme\n",
    "X1_test_tensor = tf.convert_to_tensor(X_LS_test, dtype= 'float32')\n",
    "X1_test_shape =  [len(X_LS_test),len(X_LS_test[0]), 1]\n",
    "X1_test = tf.reshape(X1_test_tensor, X1_test_shape )\n",
    "#Max values\n",
    "X2_test_tensor = tf.convert_to_tensor(X_max_values_test, dtype= 'float32')\n",
    "X2_test = tf.reshape(X2_test_tensor, (len(X_max_values_test), len(X_max_values_test[0]),1))\n",
    "#Label\n",
    "Y_test_tensor = tf.convert_to_tensor(Y_test)\n",
    "label_test = tf.reshape(Y_test_tensor, (len(Y_test),1 ))\n",
    "\n",
    "print(\"X1_test shape : \", X1_test.shape)\n",
    "print(\"X2_test shape : \", X2_test.shape)\n",
    "print(\"label_test shape : \", label_test.shape)"
   ]
  },
  {
   "cell_type": "code",
   "execution_count": 14,
   "id": "65c79c32",
   "metadata": {},
   "outputs": [
    {
     "name": "stdout",
     "output_type": "stream",
     "text": [
      "94/94 [==============================] - 5s 47ms/step - loss: 2.1142 - binary_accuracy: 0.7070 - precision_m: 0.5233 - recall_m: 0.5901 - f_score: 0.5417\n",
      "94/94 [==============================] - 4s 42ms/step\n"
     ]
    }
   ],
   "source": [
    "#Evaluation \n",
    "\n",
    "score = model.evaluate( x =[X1_test[0:3000], X2_test[0:3000]], y=label_test[0:3000])\n",
    "y_pred = model.predict(x =[X1_test[0:3000], X2_test[0:3000]])"
   ]
  },
  {
   "cell_type": "code",
   "execution_count": 37,
   "id": "43bf2dae",
   "metadata": {},
   "outputs": [
    {
     "name": "stdout",
     "output_type": "stream",
     "text": [
      "tf.Tensor(\n",
      "[[0.062     ]\n",
      " [0.48626128]], shape=(2, 1), dtype=float32)\n",
      "tf.Tensor([0.], shape=(1,), dtype=float64)\n",
      "[0.09586096]\n"
     ]
    },
    {
     "data": {
      "text/plain": [
       "[<matplotlib.lines.Line2D at 0x7f6b29e4eb90>]"
      ]
     },
     "execution_count": 37,
     "metadata": {},
     "output_type": "execute_result"
    },
    {
     "data": {
      "image/png": "[encoded data removed]",
      "text/plain": [
       "<Figure size 640x480 with 1 Axes>"
      ]
     },
     "metadata": {},
     "output_type": "display_data"
    }
   ],
   "source": [
    "i = 44\n",
    "print(X2_test[i])\n",
    "print(label_test[i])\n",
    "print(y_pred[i])\n",
    "plt.plot(freq,X1_test[i])"
   ]
  },
  {
   "cell_type": "code",
   "execution_count": 15,
   "id": "222c2b83",
   "metadata": {},
   "outputs": [
    {
     "name": "stdout",
     "output_type": "stream",
     "text": [
      "X1_test shape :  (20000, 990, 1)\n",
      "X2_test shape :  (20000, 2, 1)\n",
      "Y_test shape :  (20000, 1)\n"
     ]
    }
   ],
   "source": [
    "#Evaluation with data from Nieto papers\n",
    "\n",
    "label_test= []\n",
    "LS_test = []\n",
    "max_value_test =[]\n",
    "\n",
    "for filename in np.sort(os.listdir(\"../Git_article/ExoplANNET/data\")):\n",
    "    \n",
    "    if filename.endswith(\".npy\") :\n",
    "        \n",
    "        if filename.startswith(\"pe\"): \n",
    "             LS_test.append(np.load('../Git_article/ExoplANNET/data/' + filename))\n",
    "        if filename.startswith(\"l\"): \n",
    "             label_test.append(np.load('../Git_article/ExoplANNET/data/' + filename))\n",
    "        if filename.startswith(\"po\"): \n",
    "             max_value_test.append(np.load('../Git_article/ExoplANNET/data/' + filename))\n",
    "\n",
    "                \n",
    "#Concatenate arrays\n",
    "labels_p = np.concatenate((label_test[0][:],label_test[1][:],label_test[2][:],label_test[3][:],label_test[4][:]))\n",
    "LSs_p = np.concatenate((LS_test[0][:], LS_test[1][:],LS_test[2][:],LS_test[3][:],LS_test[4][:]))\n",
    "max_values_p = np.concatenate((max_value_test[0][:],max_value_test[1][:],max_value_test[2][:],max_value_test[3][:],max_value_test[4][:]) ) \n",
    "\n",
    "#Shuffle\n",
    "c = list(zip(LSs_p, max_values_p,labels_p))\n",
    "random.shuffle(c)\n",
    "LSs_p, max_values_p,labels_p = zip(*c)\n",
    "\n",
    "for i in range(len(max_values_p)):\n",
    "    max_values_p[i][0] = freq[round(max_values_p[i][0])]\n",
    "\n",
    "#Convert to tensor\n",
    "X1_p = tf.convert_to_tensor(LSs_p, dtype= 'float32')\n",
    "X_p_shape =  [len(LSs_p),len(X_LS[0]), 1]\n",
    "X1_p = tf.reshape(X1_p, X_p_shape )\n",
    "\n",
    "#Max values\n",
    "X2_p = tf.convert_to_tensor(max_values_p, dtype= 'float32')\n",
    "X2_p = tf.reshape(X2_p, (len(LSs_p), 2,1))\n",
    "\n",
    "#Label\n",
    "Y_p = tf.convert_to_tensor(labels_p)\n",
    "Y_p = tf.reshape(Y_p, (len(LSs_p),1 ))\n",
    "\n",
    "\n",
    "print(\"X1_test shape : \", X1_p.shape)\n",
    "print(\"X2_test shape : \", X2_p.shape)\n",
    "print(\"Y_test shape : \", Y_p.shape)"
   ]
  },
  {
   "cell_type": "code",
   "execution_count": 16,
   "id": "f9064045",
   "metadata": {},
   "outputs": [
    {
     "name": "stdout",
     "output_type": "stream",
     "text": [
      "94/94 [==============================] - 5s 51ms/step - loss: 6.1722 - binary_accuracy: 0.7773 - precision_m: 0.5075 - recall_m: 0.5232 - f_score: 0.4982\n",
      "Test F-score =  49.82 %\n"
     ]
    }
   ],
   "source": [
    "#Evaluation\n",
    "score_p = model.evaluate( x =[X1_p[0:3000], X2_p[0:3000]], y =Y_p[0:3000])\n",
    "print(\"Test F-score = \", 100*round(score_p[-1],4),\"%\")"
   ]
  },
  {
   "cell_type": "code",
   "execution_count": 17,
   "id": "8e71b1fe",
   "metadata": {},
   "outputs": [
    {
     "name": "stdout",
     "output_type": "stream",
     "text": [
      "94/94 [==============================] - 4s 40ms/step\n"
     ]
    }
   ],
   "source": [
    "test = model.predict(x =[X1_p[3000:6000], X2_p[3000:6000]])"
   ]
  },
  {
   "cell_type": "code",
   "execution_count": 18,
   "id": "40609142",
   "metadata": {},
   "outputs": [
    {
     "name": "stdout",
     "output_type": "stream",
     "text": [
      "Accuracy score test on papers data :  78.33 %\n"
     ]
    }
   ],
   "source": [
    "test = (test>0.5)*1\n",
    "accuracy = (test == np.reshape(np.asarray(labels_p[3000:6000]), (3000,1))).sum() / 3000\n",
    "print(\"Accuracy score test on papers data : \", 100*round(accuracy,4),\"%\")"
   ]
  },
  {
   "cell_type": "code",
   "execution_count": null,
   "id": "b21cc5c4",
   "metadata": {},
   "outputs": [],
   "source": []
  }
 ],
 "metadata": {
  "kernelspec": {
   "display_name": "Python 3 (ipykernel)",
   "language": "python",
   "name": "python3"
  },
  "language_info": {
   "codemirror_mode": {
    "name": "ipython",
    "version": 3
   },
   "file_extension": ".py",
   "mimetype": "text/x-python",
   "name": "python",
   "nbconvert_exporter": "python",
   "pygments_lexer": "ipython3",
   "version": "3.10.9"
  }
 },
 "nbformat": 4,
 "nbformat_minor": 5
}
